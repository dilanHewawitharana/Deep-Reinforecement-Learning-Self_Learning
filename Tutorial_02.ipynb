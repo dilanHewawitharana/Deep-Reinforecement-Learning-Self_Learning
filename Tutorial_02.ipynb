{
 "cells": [
  {
   "cell_type": "markdown",
   "id": "2de7bd9c",
   "metadata": {},
   "source": [
    "# 1. Import Dependencies"
   ]
  },
  {
   "cell_type": "code",
   "execution_count": 5,
   "id": "b38d1f4e",
   "metadata": {},
   "outputs": [],
   "source": [
    "import gym\n",
    "from stable_baselines3 import A2C\n",
    "from stable_baselines3.common.vec_env import VecFrameStack\n",
    "from stable_baselines3.common.evaluation import evaluate_policy\n",
    "from stable_baselines3.common.env_util import make_atari_env\n",
    "import os"
   ]
  },
  {
   "cell_type": "markdown",
   "id": "749db94e",
   "metadata": {},
   "source": [
    "# 2. Test Environment"
   ]
  },
  {
   "cell_type": "code",
   "execution_count": 6,
   "id": "812329b5",
   "metadata": {},
   "outputs": [],
   "source": [
    "# Atarimania ROMs: http://www.atarimania.com/roms/Roms.rar"
   ]
  },
  {
   "cell_type": "code",
   "execution_count": 7,
   "id": "429371cd",
   "metadata": {},
   "outputs": [],
   "source": [
    "!python -m atari_py.import_roms .\\ROMS"
   ]
  },
  {
   "cell_type": "code",
   "execution_count": 9,
   "id": "a06536cd",
   "metadata": {},
   "outputs": [],
   "source": [
    "environment_name = 'Breakout-v0'\n",
    "env = gym.make(environment_name)"
   ]
  },
  {
   "cell_type": "code",
   "execution_count": null,
   "id": "a1d6325b",
   "metadata": {},
   "outputs": [],
   "source": []
  }
 ],
 "metadata": {
  "kernelspec": {
   "display_name": "Python 3 (ipykernel)",
   "language": "python",
   "name": "python3"
  },
  "language_info": {
   "codemirror_mode": {
    "name": "ipython",
    "version": 3
   },
   "file_extension": ".py",
   "mimetype": "text/x-python",
   "name": "python",
   "nbconvert_exporter": "python",
   "pygments_lexer": "ipython3",
   "version": "3.9.15"
  }
 },
 "nbformat": 4,
 "nbformat_minor": 5
}
