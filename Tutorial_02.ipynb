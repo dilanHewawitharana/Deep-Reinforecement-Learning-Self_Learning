{
 "cells": [
  {
   "cell_type": "markdown",
   "id": "2de7bd9c",
   "metadata": {},
   "source": [
    "# 1. Import Dependencies"
   ]
  },
  {
   "cell_type": "code",
   "execution_count": 1,
   "id": "b38d1f4e",
   "metadata": {},
   "outputs": [
    {
     "name": "stderr",
     "output_type": "stream",
     "text": [
      "C:\\Users\\dilan\\anaconda3\\envs\\deep-learning\\lib\\site-packages\\numpy\\_distributor_init.py:30: UserWarning: loaded more than 1 DLL from .libs:\n",
      "C:\\Users\\dilan\\anaconda3\\envs\\deep-learning\\lib\\site-packages\\numpy\\.libs\\libopenblas.FB5AE2TYXYH2IJRDKGDGQ3XBKLKTF43H.gfortran-win_amd64.dll\n",
      "C:\\Users\\dilan\\anaconda3\\envs\\deep-learning\\lib\\site-packages\\numpy\\.libs\\libopenblas64__v0.3.21-gcc_10_3_0.dll\n",
      "  warnings.warn(\"loaded more than 1 DLL from .libs:\"\n"
     ]
    }
   ],
   "source": [
    "import gym\n",
    "from stable_baselines3 import A2C\n",
    "from stable_baselines3.common.vec_env import VecFrameStack\n",
    "from stable_baselines3.common.evaluation import evaluate_policy\n",
    "from stable_baselines3.common.env_util import make_atari_env\n",
    "import os"
   ]
  },
  {
   "cell_type": "markdown",
   "id": "749db94e",
   "metadata": {},
   "source": [
    "# 2. Test Environment"
   ]
  },
  {
   "cell_type": "code",
   "execution_count": 2,
   "id": "812329b5",
   "metadata": {},
   "outputs": [],
   "source": [
    "# Atarimania ROMs: http://www.atarimania.com/roms/Roms.rar"
   ]
  },
  {
   "cell_type": "code",
   "execution_count": 3,
   "id": "429371cd",
   "metadata": {},
   "outputs": [
    {
     "name": "stdout",
     "output_type": "stream",
     "text": [
      "copying air_raid.bin from .\\ROMS\\HC ROMS\\BY ALPHABET\\A-G\\Air Raid (PAL).bin to C:\\Users\\dilan\\anaconda3\\envs\\deep-learning\\lib\\site-packages\\atari_py\\atari_roms\\air_raid.bin\n",
      "copying alien.bin from .\\ROMS\\HC ROMS\\BY ALPHABET\\A-G\\Alien.bin to C:\\Users\\dilan\\anaconda3\\envs\\deep-learning\\lib\\site-packages\\atari_py\\atari_roms\\alien.bin\n",
      "copying amidar.bin from .\\ROMS\\HC ROMS\\BY ALPHABET\\A-G\\Amidar.bin to C:\\Users\\dilan\\anaconda3\\envs\\deep-learning\\lib\\site-packages\\atari_py\\atari_roms\\amidar.bin\n",
      "copying asteroids.bin from .\\ROMS\\HC ROMS\\BY ALPHABET\\A-G\\Asteroids [no copyright].bin to C:\\Users\\dilan\\anaconda3\\envs\\deep-learning\\lib\\site-packages\\atari_py\\atari_roms\\asteroids.bin\n",
      "copying atlantis.bin from .\\ROMS\\HC ROMS\\BY ALPHABET\\A-G\\Atlantis.bin to C:\\Users\\dilan\\anaconda3\\envs\\deep-learning\\lib\\site-packages\\atari_py\\atari_roms\\atlantis.bin\n",
      "copying bank_heist.bin from .\\ROMS\\HC ROMS\\BY ALPHABET\\A-G\\Bank Heist.bin to C:\\Users\\dilan\\anaconda3\\envs\\deep-learning\\lib\\site-packages\\atari_py\\atari_roms\\bank_heist.bin\n",
      "copying battle_zone.bin from .\\ROMS\\HC ROMS\\BY ALPHABET\\A-G\\Battlezone.bin to C:\\Users\\dilan\\anaconda3\\envs\\deep-learning\\lib\\site-packages\\atari_py\\atari_roms\\battle_zone.bin\n",
      "copying beam_rider.bin from .\\ROMS\\HC ROMS\\BY ALPHABET\\A-G\\Beamrider.bin to C:\\Users\\dilan\\anaconda3\\envs\\deep-learning\\lib\\site-packages\\atari_py\\atari_roms\\beam_rider.bin\n",
      "copying berzerk.bin from .\\ROMS\\HC ROMS\\BY ALPHABET\\A-G\\Berzerk.bin to C:\\Users\\dilan\\anaconda3\\envs\\deep-learning\\lib\\site-packages\\atari_py\\atari_roms\\berzerk.bin\n",
      "copying bowling.bin from .\\ROMS\\HC ROMS\\BY ALPHABET\\A-G\\Bowling.bin to C:\\Users\\dilan\\anaconda3\\envs\\deep-learning\\lib\\site-packages\\atari_py\\atari_roms\\bowling.bin\n",
      "copying boxing.bin from .\\ROMS\\HC ROMS\\BY ALPHABET\\A-G\\Boxing.bin to C:\\Users\\dilan\\anaconda3\\envs\\deep-learning\\lib\\site-packages\\atari_py\\atari_roms\\boxing.bin\n",
      "copying breakout.bin from .\\ROMS\\HC ROMS\\BY ALPHABET\\A-G\\Breakout - Breakaway IV.bin to C:\\Users\\dilan\\anaconda3\\envs\\deep-learning\\lib\\site-packages\\atari_py\\atari_roms\\breakout.bin\n",
      "copying carnival.bin from .\\ROMS\\HC ROMS\\BY ALPHABET\\A-G\\Carnival.bin to C:\\Users\\dilan\\anaconda3\\envs\\deep-learning\\lib\\site-packages\\atari_py\\atari_roms\\carnival.bin\n",
      "copying centipede.bin from .\\ROMS\\HC ROMS\\BY ALPHABET\\A-G\\Centipede.bin to C:\\Users\\dilan\\anaconda3\\envs\\deep-learning\\lib\\site-packages\\atari_py\\atari_roms\\centipede.bin\n",
      "copying chopper_command.bin from .\\ROMS\\HC ROMS\\BY ALPHABET\\A-G\\Chopper Command.bin to C:\\Users\\dilan\\anaconda3\\envs\\deep-learning\\lib\\site-packages\\atari_py\\atari_roms\\chopper_command.bin\n",
      "copying crazy_climber.bin from .\\ROMS\\HC ROMS\\BY ALPHABET\\A-G\\Crazy Climber.bin to C:\\Users\\dilan\\anaconda3\\envs\\deep-learning\\lib\\site-packages\\atari_py\\atari_roms\\crazy_climber.bin\n",
      "copying defender.bin from .\\ROMS\\HC ROMS\\BY ALPHABET\\A-G\\Defender.bin to C:\\Users\\dilan\\anaconda3\\envs\\deep-learning\\lib\\site-packages\\atari_py\\atari_roms\\defender.bin\n",
      "copying demon_attack.bin from .\\ROMS\\HC ROMS\\BY ALPHABET\\A-G\\Demon Attack.bin to C:\\Users\\dilan\\anaconda3\\envs\\deep-learning\\lib\\site-packages\\atari_py\\atari_roms\\demon_attack.bin\n",
      "copying donkey_kong.bin from .\\ROMS\\HC ROMS\\BY ALPHABET\\A-G\\Donkey Kong.bin to C:\\Users\\dilan\\anaconda3\\envs\\deep-learning\\lib\\site-packages\\atari_py\\atari_roms\\donkey_kong.bin\n",
      "copying double_dunk.bin from .\\ROMS\\HC ROMS\\BY ALPHABET\\A-G\\Double Dunk.bin to C:\\Users\\dilan\\anaconda3\\envs\\deep-learning\\lib\\site-packages\\atari_py\\atari_roms\\double_dunk.bin\n",
      "copying elevator_action.bin from .\\ROMS\\HC ROMS\\BY ALPHABET\\A-G\\Elevator Action (Prototype).bin to C:\\Users\\dilan\\anaconda3\\envs\\deep-learning\\lib\\site-packages\\atari_py\\atari_roms\\elevator_action.bin\n",
      "copying enduro.bin from .\\ROMS\\HC ROMS\\BY ALPHABET\\A-G\\Enduro.bin to C:\\Users\\dilan\\anaconda3\\envs\\deep-learning\\lib\\site-packages\\atari_py\\atari_roms\\enduro.bin\n",
      "copying fishing_derby.bin from .\\ROMS\\HC ROMS\\BY ALPHABET\\A-G\\Fishing Derby.bin to C:\\Users\\dilan\\anaconda3\\envs\\deep-learning\\lib\\site-packages\\atari_py\\atari_roms\\fishing_derby.bin\n",
      "copying freeway.bin from .\\ROMS\\HC ROMS\\BY ALPHABET\\A-G\\Freeway.bin to C:\\Users\\dilan\\anaconda3\\envs\\deep-learning\\lib\\site-packages\\atari_py\\atari_roms\\freeway.bin\n",
      "copying frogger.bin from .\\ROMS\\HC ROMS\\BY ALPHABET\\A-G\\Frogger.bin to C:\\Users\\dilan\\anaconda3\\envs\\deep-learning\\lib\\site-packages\\atari_py\\atari_roms\\frogger.bin\n",
      "copying frostbite.bin from .\\ROMS\\HC ROMS\\BY ALPHABET\\A-G\\Frostbite.bin to C:\\Users\\dilan\\anaconda3\\envs\\deep-learning\\lib\\site-packages\\atari_py\\atari_roms\\frostbite.bin\n",
      "copying galaxian.bin from .\\ROMS\\HC ROMS\\BY ALPHABET\\A-G\\Galaxian.bin to C:\\Users\\dilan\\anaconda3\\envs\\deep-learning\\lib\\site-packages\\atari_py\\atari_roms\\galaxian.bin\n",
      "copying gopher.bin from .\\ROMS\\HC ROMS\\BY ALPHABET\\A-G\\Gopher.bin to C:\\Users\\dilan\\anaconda3\\envs\\deep-learning\\lib\\site-packages\\atari_py\\atari_roms\\gopher.bin\n",
      "copying gravitar.bin from .\\ROMS\\HC ROMS\\BY ALPHABET\\A-G\\Gravitar.bin to C:\\Users\\dilan\\anaconda3\\envs\\deep-learning\\lib\\site-packages\\atari_py\\atari_roms\\gravitar.bin\n",
      "copying hero.bin from .\\ROMS\\HC ROMS\\BY ALPHABET\\H-R\\H.E.R.O..bin to C:\\Users\\dilan\\anaconda3\\envs\\deep-learning\\lib\\site-packages\\atari_py\\atari_roms\\hero.bin\n",
      "copying ice_hockey.bin from .\\ROMS\\HC ROMS\\BY ALPHABET\\H-R\\Ice Hockey.bin to C:\\Users\\dilan\\anaconda3\\envs\\deep-learning\\lib\\site-packages\\atari_py\\atari_roms\\ice_hockey.bin\n",
      "copying jamesbond.bin from .\\ROMS\\HC ROMS\\BY ALPHABET\\H-R\\James Bond 007.bin to C:\\Users\\dilan\\anaconda3\\envs\\deep-learning\\lib\\site-packages\\atari_py\\atari_roms\\jamesbond.bin\n",
      "copying journey_escape.bin from .\\ROMS\\HC ROMS\\BY ALPHABET\\H-R\\Journey Escape.bin to C:\\Users\\dilan\\anaconda3\\envs\\deep-learning\\lib\\site-packages\\atari_py\\atari_roms\\journey_escape.bin\n",
      "copying kaboom.bin from .\\ROMS\\HC ROMS\\BY ALPHABET\\H-R\\Kaboom!.bin to C:\\Users\\dilan\\anaconda3\\envs\\deep-learning\\lib\\site-packages\\atari_py\\atari_roms\\kaboom.bin\n",
      "copying kangaroo.bin from .\\ROMS\\HC ROMS\\BY ALPHABET\\H-R\\Kangaroo.bin to C:\\Users\\dilan\\anaconda3\\envs\\deep-learning\\lib\\site-packages\\atari_py\\atari_roms\\kangaroo.bin\n",
      "copying koolaid.bin from .\\ROMS\\HC ROMS\\BY ALPHABET\\H-R\\Kool-Aid Man.bin to C:\\Users\\dilan\\anaconda3\\envs\\deep-learning\\lib\\site-packages\\atari_py\\atari_roms\\koolaid.bin\n",
      "copying krull.bin from .\\ROMS\\HC ROMS\\BY ALPHABET\\H-R\\Krull.bin to C:\\Users\\dilan\\anaconda3\\envs\\deep-learning\\lib\\site-packages\\atari_py\\atari_roms\\krull.bin\n",
      "copying kung_fu_master.bin from .\\ROMS\\HC ROMS\\BY ALPHABET\\H-R\\Kung-Fu Master.bin to C:\\Users\\dilan\\anaconda3\\envs\\deep-learning\\lib\\site-packages\\atari_py\\atari_roms\\kung_fu_master.bin\n",
      "copying lost_luggage.bin from .\\ROMS\\HC ROMS\\BY ALPHABET\\H-R\\Lost Luggage [no opening scene].bin to C:\\Users\\dilan\\anaconda3\\envs\\deep-learning\\lib\\site-packages\\atari_py\\atari_roms\\lost_luggage.bin\n",
      "copying montezuma_revenge.bin from .\\ROMS\\HC ROMS\\BY ALPHABET\\H-R\\Montezuma's Revenge - Featuring Panama Joe.bin to C:\\Users\\dilan\\anaconda3\\envs\\deep-learning\\lib\\site-packages\\atari_py\\atari_roms\\montezuma_revenge.bin\n",
      "copying ms_pacman.bin from .\\ROMS\\HC ROMS\\BY ALPHABET\\H-R\\Ms. Pac-Man.bin to C:\\Users\\dilan\\anaconda3\\envs\\deep-learning\\lib\\site-packages\\atari_py\\atari_roms\\ms_pacman.bin\n",
      "copying name_this_game.bin from .\\ROMS\\HC ROMS\\BY ALPHABET\\H-R\\Name This Game.bin to C:\\Users\\dilan\\anaconda3\\envs\\deep-learning\\lib\\site-packages\\atari_py\\atari_roms\\name_this_game.bin\n",
      "copying phoenix.bin from .\\ROMS\\HC ROMS\\BY ALPHABET\\H-R\\Phoenix.bin to C:\\Users\\dilan\\anaconda3\\envs\\deep-learning\\lib\\site-packages\\atari_py\\atari_roms\\phoenix.bin\n",
      "copying pitfall.bin from .\\ROMS\\HC ROMS\\BY ALPHABET\\H-R\\Pitfall! - Pitfall Harry's Jungle Adventure.bin to C:\\Users\\dilan\\anaconda3\\envs\\deep-learning\\lib\\site-packages\\atari_py\\atari_roms\\pitfall.bin\n",
      "copying pooyan.bin from .\\ROMS\\HC ROMS\\BY ALPHABET\\H-R\\Pooyan.bin to C:\\Users\\dilan\\anaconda3\\envs\\deep-learning\\lib\\site-packages\\atari_py\\atari_roms\\pooyan.bin\n",
      "copying private_eye.bin from .\\ROMS\\HC ROMS\\BY ALPHABET\\H-R\\Private Eye.bin to C:\\Users\\dilan\\anaconda3\\envs\\deep-learning\\lib\\site-packages\\atari_py\\atari_roms\\private_eye.bin\n",
      "copying qbert.bin from .\\ROMS\\HC ROMS\\BY ALPHABET\\H-R\\Q-bert.bin to C:\\Users\\dilan\\anaconda3\\envs\\deep-learning\\lib\\site-packages\\atari_py\\atari_roms\\qbert.bin\n",
      "copying riverraid.bin from .\\ROMS\\HC ROMS\\BY ALPHABET\\H-R\\River Raid.bin to C:\\Users\\dilan\\anaconda3\\envs\\deep-learning\\lib\\site-packages\\atari_py\\atari_roms\\riverraid.bin\n",
      "copying road_runner.bin from patched version of .\\ROMS\\HC ROMS\\BY ALPHABET\\H-R\\Road Runner.bin to C:\\Users\\dilan\\anaconda3\\envs\\deep-learning\\lib\\site-packages\\atari_py\\atari_roms\\road_runner.bin\n",
      "copying robotank.bin from .\\ROMS\\HC ROMS\\BY ALPHABET\\H-R\\Robot Tank.bin to C:\\Users\\dilan\\anaconda3\\envs\\deep-learning\\lib\\site-packages\\atari_py\\atari_roms\\robotank.bin\n",
      "copying seaquest.bin from .\\ROMS\\HC ROMS\\BY ALPHABET\\S-Z\\Seaquest.bin to C:\\Users\\dilan\\anaconda3\\envs\\deep-learning\\lib\\site-packages\\atari_py\\atari_roms\\seaquest.bin\n",
      "copying skiing.bin from .\\ROMS\\HC ROMS\\BY ALPHABET\\S-Z\\Skiing.bin to C:\\Users\\dilan\\anaconda3\\envs\\deep-learning\\lib\\site-packages\\atari_py\\atari_roms\\skiing.bin\n",
      "copying solaris.bin from .\\ROMS\\HC ROMS\\BY ALPHABET\\S-Z\\Solaris.bin to C:\\Users\\dilan\\anaconda3\\envs\\deep-learning\\lib\\site-packages\\atari_py\\atari_roms\\solaris.bin\n",
      "copying space_invaders.bin from .\\ROMS\\HC ROMS\\BY ALPHABET\\S-Z\\Space Invaders.bin to C:\\Users\\dilan\\anaconda3\\envs\\deep-learning\\lib\\site-packages\\atari_py\\atari_roms\\space_invaders.bin\n",
      "copying star_gunner.bin from .\\ROMS\\HC ROMS\\BY ALPHABET\\S-Z\\Stargunner.bin to C:\\Users\\dilan\\anaconda3\\envs\\deep-learning\\lib\\site-packages\\atari_py\\atari_roms\\star_gunner.bin\n",
      "copying surround.bin from .\\ROMS\\HC ROMS\\BY ALPHABET\\S-Z\\Surround - Chase.bin to C:\\Users\\dilan\\anaconda3\\envs\\deep-learning\\lib\\site-packages\\atari_py\\atari_roms\\surround.bin\n",
      "copying tennis.bin from .\\ROMS\\HC ROMS\\BY ALPHABET\\S-Z\\Tennis.bin to C:\\Users\\dilan\\anaconda3\\envs\\deep-learning\\lib\\site-packages\\atari_py\\atari_roms\\tennis.bin\n",
      "copying time_pilot.bin from .\\ROMS\\HC ROMS\\BY ALPHABET\\S-Z\\Time Pilot.bin to C:\\Users\\dilan\\anaconda3\\envs\\deep-learning\\lib\\site-packages\\atari_py\\atari_roms\\time_pilot.bin\n",
      "copying trondead.bin from .\\ROMS\\HC ROMS\\BY ALPHABET\\S-Z\\TRON - Deadly Discs.bin to C:\\Users\\dilan\\anaconda3\\envs\\deep-learning\\lib\\site-packages\\atari_py\\atari_roms\\trondead.bin\n",
      "copying tutankham.bin from .\\ROMS\\HC ROMS\\BY ALPHABET\\S-Z\\Tutankham.bin to C:\\Users\\dilan\\anaconda3\\envs\\deep-learning\\lib\\site-packages\\atari_py\\atari_roms\\tutankham.bin\n",
      "copying up_n_down.bin from .\\ROMS\\HC ROMS\\BY ALPHABET\\S-Z\\Up 'n Down.bin to C:\\Users\\dilan\\anaconda3\\envs\\deep-learning\\lib\\site-packages\\atari_py\\atari_roms\\up_n_down.bin\n",
      "copying venture.bin from .\\ROMS\\HC ROMS\\BY ALPHABET\\S-Z\\Venture.bin to C:\\Users\\dilan\\anaconda3\\envs\\deep-learning\\lib\\site-packages\\atari_py\\atari_roms\\venture.bin\n",
      "copying pong.bin from .\\ROMS\\HC ROMS\\BY ALPHABET\\S-Z\\Video Olympics - Pong Sports.bin to C:\\Users\\dilan\\anaconda3\\envs\\deep-learning\\lib\\site-packages\\atari_py\\atari_roms\\pong.bin\n",
      "copying video_pinball.bin from .\\ROMS\\HC ROMS\\BY ALPHABET\\S-Z\\Video Pinball - Arcade Pinball.bin to C:\\Users\\dilan\\anaconda3\\envs\\deep-learning\\lib\\site-packages\\atari_py\\atari_roms\\video_pinball.bin\n",
      "copying wizard_of_wor.bin from .\\ROMS\\HC ROMS\\BY ALPHABET\\S-Z\\Wizard of Wor.bin to C:\\Users\\dilan\\anaconda3\\envs\\deep-learning\\lib\\site-packages\\atari_py\\atari_roms\\wizard_of_wor.bin\n",
      "copying yars_revenge.bin from .\\ROMS\\HC ROMS\\BY ALPHABET\\S-Z\\Yars' Revenge.bin to C:\\Users\\dilan\\anaconda3\\envs\\deep-learning\\lib\\site-packages\\atari_py\\atari_roms\\yars_revenge.bin\n",
      "copying zaxxon.bin from .\\ROMS\\HC ROMS\\BY ALPHABET\\S-Z\\Zaxxon.bin to C:\\Users\\dilan\\anaconda3\\envs\\deep-learning\\lib\\site-packages\\atari_py\\atari_roms\\zaxxon.bin\n",
      "copying adventure.bin from .\\ROMS\\HC ROMS\\BY ALPHABET (PAL)\\A-G\\Adventure (PAL).bin to C:\\Users\\dilan\\anaconda3\\envs\\deep-learning\\lib\\site-packages\\atari_py\\atari_roms\\adventure.bin\n",
      "copying keystone_kapers.bin from .\\ROMS\\HC ROMS\\BY ALPHABET (PAL)\\H-R\\Keystone Kapers (PAL).bin to C:\\Users\\dilan\\anaconda3\\envs\\deep-learning\\lib\\site-packages\\atari_py\\atari_roms\\keystone_kapers.bin\n",
      "copying king_kong.bin from .\\ROMS\\HC ROMS\\BY ALPHABET (PAL)\\H-R\\King Kong (PAL).bin to C:\\Users\\dilan\\anaconda3\\envs\\deep-learning\\lib\\site-packages\\atari_py\\atari_roms\\king_kong.bin\n",
      "copying laser_gates.bin from .\\ROMS\\HC ROMS\\BY ALPHABET (PAL)\\H-R\\Laser Gates (PAL).bin to C:\\Users\\dilan\\anaconda3\\envs\\deep-learning\\lib\\site-packages\\atari_py\\atari_roms\\laser_gates.bin\n",
      "copying mr_do.bin from .\\ROMS\\HC ROMS\\BY ALPHABET (PAL)\\H-R\\Mr. Do! (PAL).bin to C:\\Users\\dilan\\anaconda3\\envs\\deep-learning\\lib\\site-packages\\atari_py\\atari_roms\\mr_do.bin\n",
      "copying pacman.bin from .\\ROMS\\HC ROMS\\BY ALPHABET (PAL)\\H-R\\Pac-Man (PAL).bin to C:\\Users\\dilan\\anaconda3\\envs\\deep-learning\\lib\\site-packages\\atari_py\\atari_roms\\pacman.bin\n",
      "copying sir_lancelot.bin from .\\ROMS\\HC ROMS\\BY ALPHABET (PAL)\\S-Z\\Sir Lancelot (PAL).bin to C:\\Users\\dilan\\anaconda3\\envs\\deep-learning\\lib\\site-packages\\atari_py\\atari_roms\\sir_lancelot.bin\n",
      "copying assault.bin from .\\ROMS\\HC ROMS\\NTSC VERSIONS OF PAL ORIGINALS\\Assault (AKA Sky Alien) (1983) (Bomb - Onbase) (CA281).bin to C:\\Users\\dilan\\anaconda3\\envs\\deep-learning\\lib\\site-packages\\atari_py\\atari_roms\\assault.bin\n",
      "copying asterix.bin from .\\ROMS\\ROMS\\Asterix (AKA Taz) (1984) (Atari, Jerome Domurat, Steve Woita) (CX2696).bin to C:\\Users\\dilan\\anaconda3\\envs\\deep-learning\\lib\\site-packages\\atari_py\\atari_roms\\asterix.bin\n"
     ]
    },
    {
     "name": "stderr",
     "output_type": "stream",
     "text": [
      "C:\\Users\\dilan\\anaconda3\\envs\\deep-learning\\lib\\site-packages\\numpy\\_distributor_init.py:30: UserWarning: loaded more than 1 DLL from .libs:\n",
      "C:\\Users\\dilan\\anaconda3\\envs\\deep-learning\\lib\\site-packages\\numpy\\.libs\\libopenblas.FB5AE2TYXYH2IJRDKGDGQ3XBKLKTF43H.gfortran-win_amd64.dll\n",
      "C:\\Users\\dilan\\anaconda3\\envs\\deep-learning\\lib\\site-packages\\numpy\\.libs\\libopenblas64__v0.3.21-gcc_10_3_0.dll\n",
      "  warnings.warn(\"loaded more than 1 DLL from .libs:\"\n"
     ]
    }
   ],
   "source": [
    "!python -m atari_py.import_roms .\\ROMS"
   ]
  },
  {
   "cell_type": "code",
   "execution_count": 4,
   "id": "a06536cd",
   "metadata": {},
   "outputs": [],
   "source": [
    "environment_name = 'Breakout-v0'\n",
    "env = gym.make(environment_name)"
   ]
  },
  {
   "cell_type": "code",
   "execution_count": 5,
   "id": "a1d6325b",
   "metadata": {},
   "outputs": [
    {
     "data": {
      "text/plain": [
       "array([[[0, 0, 0],\n",
       "        [0, 0, 0],\n",
       "        [0, 0, 0],\n",
       "        ...,\n",
       "        [0, 0, 0],\n",
       "        [0, 0, 0],\n",
       "        [0, 0, 0]],\n",
       "\n",
       "       [[0, 0, 0],\n",
       "        [0, 0, 0],\n",
       "        [0, 0, 0],\n",
       "        ...,\n",
       "        [0, 0, 0],\n",
       "        [0, 0, 0],\n",
       "        [0, 0, 0]],\n",
       "\n",
       "       [[0, 0, 0],\n",
       "        [0, 0, 0],\n",
       "        [0, 0, 0],\n",
       "        ...,\n",
       "        [0, 0, 0],\n",
       "        [0, 0, 0],\n",
       "        [0, 0, 0]],\n",
       "\n",
       "       ...,\n",
       "\n",
       "       [[0, 0, 0],\n",
       "        [0, 0, 0],\n",
       "        [0, 0, 0],\n",
       "        ...,\n",
       "        [0, 0, 0],\n",
       "        [0, 0, 0],\n",
       "        [0, 0, 0]],\n",
       "\n",
       "       [[0, 0, 0],\n",
       "        [0, 0, 0],\n",
       "        [0, 0, 0],\n",
       "        ...,\n",
       "        [0, 0, 0],\n",
       "        [0, 0, 0],\n",
       "        [0, 0, 0]],\n",
       "\n",
       "       [[0, 0, 0],\n",
       "        [0, 0, 0],\n",
       "        [0, 0, 0],\n",
       "        ...,\n",
       "        [0, 0, 0],\n",
       "        [0, 0, 0],\n",
       "        [0, 0, 0]]], dtype=uint8)"
      ]
     },
     "execution_count": 5,
     "metadata": {},
     "output_type": "execute_result"
    }
   ],
   "source": [
    "env.reset()"
   ]
  },
  {
   "cell_type": "code",
   "execution_count": 6,
   "id": "a3b974aa",
   "metadata": {},
   "outputs": [
    {
     "data": {
      "text/plain": [
       "Discrete(4)"
      ]
     },
     "execution_count": 6,
     "metadata": {},
     "output_type": "execute_result"
    }
   ],
   "source": [
    "env.action_space"
   ]
  },
  {
   "cell_type": "code",
   "execution_count": 7,
   "id": "413cbe3f",
   "metadata": {
    "scrolled": true
   },
   "outputs": [
    {
     "data": {
      "text/plain": [
       "Box([[[0 0 0]\n",
       "  [0 0 0]\n",
       "  [0 0 0]\n",
       "  ...\n",
       "  [0 0 0]\n",
       "  [0 0 0]\n",
       "  [0 0 0]]\n",
       "\n",
       " [[0 0 0]\n",
       "  [0 0 0]\n",
       "  [0 0 0]\n",
       "  ...\n",
       "  [0 0 0]\n",
       "  [0 0 0]\n",
       "  [0 0 0]]\n",
       "\n",
       " [[0 0 0]\n",
       "  [0 0 0]\n",
       "  [0 0 0]\n",
       "  ...\n",
       "  [0 0 0]\n",
       "  [0 0 0]\n",
       "  [0 0 0]]\n",
       "\n",
       " ...\n",
       "\n",
       " [[0 0 0]\n",
       "  [0 0 0]\n",
       "  [0 0 0]\n",
       "  ...\n",
       "  [0 0 0]\n",
       "  [0 0 0]\n",
       "  [0 0 0]]\n",
       "\n",
       " [[0 0 0]\n",
       "  [0 0 0]\n",
       "  [0 0 0]\n",
       "  ...\n",
       "  [0 0 0]\n",
       "  [0 0 0]\n",
       "  [0 0 0]]\n",
       "\n",
       " [[0 0 0]\n",
       "  [0 0 0]\n",
       "  [0 0 0]\n",
       "  ...\n",
       "  [0 0 0]\n",
       "  [0 0 0]\n",
       "  [0 0 0]]], [[[255 255 255]\n",
       "  [255 255 255]\n",
       "  [255 255 255]\n",
       "  ...\n",
       "  [255 255 255]\n",
       "  [255 255 255]\n",
       "  [255 255 255]]\n",
       "\n",
       " [[255 255 255]\n",
       "  [255 255 255]\n",
       "  [255 255 255]\n",
       "  ...\n",
       "  [255 255 255]\n",
       "  [255 255 255]\n",
       "  [255 255 255]]\n",
       "\n",
       " [[255 255 255]\n",
       "  [255 255 255]\n",
       "  [255 255 255]\n",
       "  ...\n",
       "  [255 255 255]\n",
       "  [255 255 255]\n",
       "  [255 255 255]]\n",
       "\n",
       " ...\n",
       "\n",
       " [[255 255 255]\n",
       "  [255 255 255]\n",
       "  [255 255 255]\n",
       "  ...\n",
       "  [255 255 255]\n",
       "  [255 255 255]\n",
       "  [255 255 255]]\n",
       "\n",
       " [[255 255 255]\n",
       "  [255 255 255]\n",
       "  [255 255 255]\n",
       "  ...\n",
       "  [255 255 255]\n",
       "  [255 255 255]\n",
       "  [255 255 255]]\n",
       "\n",
       " [[255 255 255]\n",
       "  [255 255 255]\n",
       "  [255 255 255]\n",
       "  ...\n",
       "  [255 255 255]\n",
       "  [255 255 255]\n",
       "  [255 255 255]]], (210, 160, 3), uint8)"
      ]
     },
     "execution_count": 7,
     "metadata": {},
     "output_type": "execute_result"
    }
   ],
   "source": [
    "env.observation_space"
   ]
  },
  {
   "cell_type": "code",
   "execution_count": 8,
   "id": "87b098b3",
   "metadata": {},
   "outputs": [
    {
     "name": "stderr",
     "output_type": "stream",
     "text": [
      "C:\\Users\\dilan\\anaconda3\\envs\\deep-learning\\lib\\site-packages\\gym\\envs\\atari\\environment.py:267: UserWarning: \u001b[33mWARN: We strongly suggest supplying `render_mode` when constructing your environment, e.g., gym.make(ID, render_mode='human'). Using `render_mode` provides access to proper scaling, audio support, and proper framerates.\u001b[0m\n",
      "  logger.warn(\n",
      "C:\\Users\\dilan\\anaconda3\\envs\\deep-learning\\lib\\site-packages\\pyglet\\image\\codecs\\wic.py:289: UserWarning: [WinError -2147417850] Cannot change thread mode after it is set\n",
      "  warnings.warn(str(err))\n"
     ]
    },
    {
     "name": "stdout",
     "output_type": "stream",
     "text": [
      "Episode:1 Score:0\n",
      "Episode:2 Score:0\n",
      "Episode:3 Score:0\n",
      "Episode:4 Score:0\n",
      "Episode:5 Score:0\n"
     ]
    }
   ],
   "source": [
    "episodes = 5\n",
    "for episode in range(1, episodes+1):\n",
    "    obs = env.reset()\n",
    "    done = False\n",
    "    score = 0\n",
    "    \n",
    "    while not done:\n",
    "        env.render()\n",
    "        action = env.action_space.sample()\n",
    "        obs, reward, done, info = env.step(action)\n",
    "        score+=score\n",
    "    print('Episode:{} Score:{}'.format(episode, score))\n",
    "env.close()"
   ]
  },
  {
   "cell_type": "markdown",
   "id": "99a65389",
   "metadata": {},
   "source": [
    "# 3. Vectorise Environment and Train Model"
   ]
  },
  {
   "cell_type": "code",
   "execution_count": 9,
   "id": "c6e023bc",
   "metadata": {},
   "outputs": [],
   "source": [
    "env = make_atari_env('Breakout-v0', n_envs=4, seed=0)\n",
    "env = VecFrameStack(env, n_stack=4)"
   ]
  },
  {
   "cell_type": "code",
   "execution_count": 10,
   "id": "e9603cfb",
   "metadata": {},
   "outputs": [
    {
     "name": "stdout",
     "output_type": "stream",
     "text": [
      "Using cuda device\n",
      "Wrapping the env in a VecTransposeImage.\n"
     ]
    }
   ],
   "source": [
    "log_path = os.path.join('Training', 'Logs')\n",
    "model = A2C('CnnPolicy', env, verbose=True, tensorboard_log=log_path)"
   ]
  },
  {
   "cell_type": "code",
   "execution_count": 11,
   "id": "b3800a65",
   "metadata": {},
   "outputs": [
    {
     "name": "stdout",
     "output_type": "stream",
     "text": [
      "Logging to Training\\Logs\\A2C_1\n"
     ]
    },
    {
     "data": {
      "text/plain": [
       "<stable_baselines3.a2c.a2c.A2C at 0x23ab84beb20>"
      ]
     },
     "execution_count": 11,
     "metadata": {},
     "output_type": "execute_result"
    }
   ],
   "source": [
    "model.learn(total_timesteps=1000)"
   ]
  },
  {
   "cell_type": "markdown",
   "id": "5fe49135",
   "metadata": {},
   "source": [
    "# 4. Save and Reload Model"
   ]
  },
  {
   "cell_type": "code",
   "execution_count": 12,
   "id": "18cb9a75",
   "metadata": {},
   "outputs": [],
   "source": [
    "a2c_path = os.path.join('Training', 'Saved Models', 'A2C_Breakout_Model')\n",
    "model.save(a2c_path)"
   ]
  },
  {
   "cell_type": "code",
   "execution_count": 13,
   "id": "dc10e016",
   "metadata": {},
   "outputs": [],
   "source": [
    "del model"
   ]
  },
  {
   "cell_type": "code",
   "execution_count": 14,
   "id": "7284839d",
   "metadata": {},
   "outputs": [
    {
     "name": "stdout",
     "output_type": "stream",
     "text": [
      "Wrapping the env in a VecTransposeImage.\n"
     ]
    }
   ],
   "source": [
    "model = A2C.load(a2c_path, env)"
   ]
  },
  {
   "cell_type": "markdown",
   "id": "5f411456",
   "metadata": {},
   "source": [
    "# 5. Evaluate and Test"
   ]
  },
  {
   "cell_type": "code",
   "execution_count": 15,
   "id": "12bbbf0d",
   "metadata": {},
   "outputs": [],
   "source": [
    "env = make_atari_env('Breakout-v0', n_envs=1, seed=0)\n",
    "env = VecFrameStack(env, n_stack=4)"
   ]
  },
  {
   "cell_type": "code",
   "execution_count": 16,
   "id": "075e8c8b",
   "metadata": {},
   "outputs": [
    {
     "data": {
      "text/plain": [
       "(1.7, 1.2688577540449522)"
      ]
     },
     "execution_count": 16,
     "metadata": {},
     "output_type": "execute_result"
    }
   ],
   "source": [
    "evaluate_policy(model, env, n_eval_episodes=10, render=True)"
   ]
  },
  {
   "cell_type": "code",
   "execution_count": 17,
   "id": "4b8a2203",
   "metadata": {},
   "outputs": [],
   "source": [
    "env.close()"
   ]
  },
  {
   "cell_type": "code",
   "execution_count": null,
   "id": "5ff1f237",
   "metadata": {},
   "outputs": [],
   "source": []
  }
 ],
 "metadata": {
  "kernelspec": {
   "display_name": "Python 3 (ipykernel)",
   "language": "python",
   "name": "python3"
  },
  "language_info": {
   "codemirror_mode": {
    "name": "ipython",
    "version": 3
   },
   "file_extension": ".py",
   "mimetype": "text/x-python",
   "name": "python",
   "nbconvert_exporter": "python",
   "pygments_lexer": "ipython3",
   "version": "3.9.15"
  }
 },
 "nbformat": 4,
 "nbformat_minor": 5
}
