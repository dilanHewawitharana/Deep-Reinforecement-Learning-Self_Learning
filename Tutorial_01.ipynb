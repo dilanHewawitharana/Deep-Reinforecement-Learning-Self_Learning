{
 "cells": [
  {
   "cell_type": "markdown",
   "id": "9b1ee3b0",
   "metadata": {},
   "source": [
    "# 1 - Import dependencies"
   ]
  },
  {
   "cell_type": "code",
   "execution_count": 1,
   "id": "d841d9d7",
   "metadata": {},
   "outputs": [
    {
     "name": "stdout",
     "output_type": "stream",
     "text": [
      "Requirement already satisfied: stable-baselines3[extra] in c:\\users\\dilan\\anaconda3\\envs\\deep-learning\\lib\\site-packages (1.6.2)\n",
      "Requirement already satisfied: matplotlib in c:\\users\\dilan\\anaconda3\\envs\\deep-learning\\lib\\site-packages (from stable-baselines3[extra]) (3.6.2)\n",
      "Requirement already satisfied: numpy in c:\\users\\dilan\\anaconda3\\envs\\deep-learning\\lib\\site-packages (from stable-baselines3[extra]) (1.23.5)\n",
      "Requirement already satisfied: cloudpickle in c:\\users\\dilan\\anaconda3\\envs\\deep-learning\\lib\\site-packages (from stable-baselines3[extra]) (2.2.0)\n",
      "Requirement already satisfied: torch>=1.11 in c:\\users\\dilan\\anaconda3\\envs\\deep-learning\\lib\\site-packages (from stable-baselines3[extra]) (1.13.1)\n",
      "Requirement already satisfied: importlib-metadata~=4.13 in c:\\users\\dilan\\anaconda3\\envs\\deep-learning\\lib\\site-packages (from stable-baselines3[extra]) (4.13.0)\n",
      "Requirement already satisfied: pandas in c:\\users\\dilan\\anaconda3\\envs\\deep-learning\\lib\\site-packages (from stable-baselines3[extra]) (1.5.2)\n",
      "Requirement already satisfied: gym==0.21 in c:\\users\\dilan\\anaconda3\\envs\\deep-learning\\lib\\site-packages (from stable-baselines3[extra]) (0.21.0)\n",
      "Requirement already satisfied: tensorboard>=2.9.1 in c:\\users\\dilan\\anaconda3\\envs\\deep-learning\\lib\\site-packages (from stable-baselines3[extra]) (2.11.0)\n",
      "Requirement already satisfied: opencv-python in c:\\users\\dilan\\anaconda3\\envs\\deep-learning\\lib\\site-packages (from stable-baselines3[extra]) (4.6.0.66)\n",
      "Requirement already satisfied: tqdm in c:\\users\\dilan\\anaconda3\\envs\\deep-learning\\lib\\site-packages (from stable-baselines3[extra]) (4.64.1)\n",
      "Requirement already satisfied: autorom[accept-rom-license]~=0.4.2 in c:\\users\\dilan\\anaconda3\\envs\\deep-learning\\lib\\site-packages (from stable-baselines3[extra]) (0.4.2)\n",
      "Requirement already satisfied: psutil in c:\\users\\dilan\\anaconda3\\envs\\deep-learning\\lib\\site-packages (from stable-baselines3[extra]) (5.9.0)\n",
      "Requirement already satisfied: ale-py==0.7.4 in c:\\users\\dilan\\anaconda3\\envs\\deep-learning\\lib\\site-packages (from stable-baselines3[extra]) (0.7.4)\n",
      "Requirement already satisfied: rich in c:\\users\\dilan\\anaconda3\\envs\\deep-learning\\lib\\site-packages (from stable-baselines3[extra]) (12.6.0)\n",
      "Requirement already satisfied: pillow in c:\\users\\dilan\\anaconda3\\envs\\deep-learning\\lib\\site-packages (from stable-baselines3[extra]) (9.3.0)\n",
      "Requirement already satisfied: importlib-resources in c:\\users\\dilan\\anaconda3\\envs\\deep-learning\\lib\\site-packages (from ale-py==0.7.4->stable-baselines3[extra]) (5.10.1)\n",
      "Requirement already satisfied: click in c:\\users\\dilan\\anaconda3\\envs\\deep-learning\\lib\\site-packages (from autorom[accept-rom-license]~=0.4.2->stable-baselines3[extra]) (8.1.3)\n",
      "Requirement already satisfied: requests in c:\\users\\dilan\\anaconda3\\envs\\deep-learning\\lib\\site-packages (from autorom[accept-rom-license]~=0.4.2->stable-baselines3[extra]) (2.28.1)\n",
      "Requirement already satisfied: AutoROM.accept-rom-license in c:\\users\\dilan\\anaconda3\\envs\\deep-learning\\lib\\site-packages (from autorom[accept-rom-license]~=0.4.2->stable-baselines3[extra]) (0.5.0)\n",
      "Requirement already satisfied: zipp>=0.5 in c:\\users\\dilan\\anaconda3\\envs\\deep-learning\\lib\\site-packages (from importlib-metadata~=4.13->stable-baselines3[extra]) (3.8.0)\n",
      "Requirement already satisfied: setuptools>=41.0.0 in c:\\users\\dilan\\anaconda3\\envs\\deep-learning\\lib\\site-packages (from tensorboard>=2.9.1->stable-baselines3[extra]) (65.5.0)\n",
      "Requirement already satisfied: werkzeug>=1.0.1 in c:\\users\\dilan\\anaconda3\\envs\\deep-learning\\lib\\site-packages (from tensorboard>=2.9.1->stable-baselines3[extra]) (2.2.2)\n",
      "Requirement already satisfied: protobuf<4,>=3.9.2 in c:\\users\\dilan\\anaconda3\\envs\\deep-learning\\lib\\site-packages (from tensorboard>=2.9.1->stable-baselines3[extra]) (3.20.3)\n",
      "Requirement already satisfied: google-auth<3,>=1.6.3 in c:\\users\\dilan\\anaconda3\\envs\\deep-learning\\lib\\site-packages (from tensorboard>=2.9.1->stable-baselines3[extra]) (2.15.0)\n",
      "Requirement already satisfied: wheel>=0.26 in c:\\users\\dilan\\anaconda3\\envs\\deep-learning\\lib\\site-packages (from tensorboard>=2.9.1->stable-baselines3[extra]) (0.37.1)\n",
      "Requirement already satisfied: grpcio>=1.24.3 in c:\\users\\dilan\\anaconda3\\envs\\deep-learning\\lib\\site-packages (from tensorboard>=2.9.1->stable-baselines3[extra]) (1.51.1)\n",
      "Requirement already satisfied: markdown>=2.6.8 in c:\\users\\dilan\\anaconda3\\envs\\deep-learning\\lib\\site-packages (from tensorboard>=2.9.1->stable-baselines3[extra]) (3.4.1)\n",
      "Requirement already satisfied: google-auth-oauthlib<0.5,>=0.4.1 in c:\\users\\dilan\\anaconda3\\envs\\deep-learning\\lib\\site-packages (from tensorboard>=2.9.1->stable-baselines3[extra]) (0.4.6)\n",
      "Requirement already satisfied: tensorboard-plugin-wit>=1.6.0 in c:\\users\\dilan\\anaconda3\\envs\\deep-learning\\lib\\site-packages (from tensorboard>=2.9.1->stable-baselines3[extra]) (1.8.1)\n",
      "Requirement already satisfied: absl-py>=0.4 in c:\\users\\dilan\\anaconda3\\envs\\deep-learning\\lib\\site-packages (from tensorboard>=2.9.1->stable-baselines3[extra]) (1.3.0)\n",
      "Requirement already satisfied: tensorboard-data-server<0.7.0,>=0.6.0 in c:\\users\\dilan\\anaconda3\\envs\\deep-learning\\lib\\site-packages (from tensorboard>=2.9.1->stable-baselines3[extra]) (0.6.1)\n",
      "Requirement already satisfied: typing-extensions in c:\\users\\dilan\\anaconda3\\envs\\deep-learning\\lib\\site-packages (from torch>=1.11->stable-baselines3[extra]) (4.4.0)\n",
      "Requirement already satisfied: cycler>=0.10 in c:\\users\\dilan\\anaconda3\\envs\\deep-learning\\lib\\site-packages (from matplotlib->stable-baselines3[extra]) (0.11.0)\n",
      "Requirement already satisfied: python-dateutil>=2.7 in c:\\users\\dilan\\anaconda3\\envs\\deep-learning\\lib\\site-packages (from matplotlib->stable-baselines3[extra]) (2.8.2)\n",
      "Requirement already satisfied: fonttools>=4.22.0 in c:\\users\\dilan\\anaconda3\\envs\\deep-learning\\lib\\site-packages (from matplotlib->stable-baselines3[extra]) (4.38.0)\n",
      "Requirement already satisfied: kiwisolver>=1.0.1 in c:\\users\\dilan\\anaconda3\\envs\\deep-learning\\lib\\site-packages (from matplotlib->stable-baselines3[extra]) (1.4.4)\n",
      "Requirement already satisfied: packaging>=20.0 in c:\\users\\dilan\\anaconda3\\envs\\deep-learning\\lib\\site-packages (from matplotlib->stable-baselines3[extra]) (21.3)\n",
      "Requirement already satisfied: contourpy>=1.0.1 in c:\\users\\dilan\\anaconda3\\envs\\deep-learning\\lib\\site-packages (from matplotlib->stable-baselines3[extra]) (1.0.6)\n",
      "Requirement already satisfied: pyparsing>=2.2.1 in c:\\users\\dilan\\anaconda3\\envs\\deep-learning\\lib\\site-packages (from matplotlib->stable-baselines3[extra]) (3.0.9)\n",
      "Requirement already satisfied: pytz>=2020.1 in c:\\users\\dilan\\anaconda3\\envs\\deep-learning\\lib\\site-packages (from pandas->stable-baselines3[extra]) (2022.1)\n",
      "Requirement already satisfied: commonmark<0.10.0,>=0.9.0 in c:\\users\\dilan\\anaconda3\\envs\\deep-learning\\lib\\site-packages (from rich->stable-baselines3[extra]) (0.9.1)\n",
      "Requirement already satisfied: pygments<3.0.0,>=2.6.0 in c:\\users\\dilan\\anaconda3\\envs\\deep-learning\\lib\\site-packages (from rich->stable-baselines3[extra]) (2.11.2)\n",
      "Requirement already satisfied: colorama in c:\\users\\dilan\\anaconda3\\envs\\deep-learning\\lib\\site-packages (from tqdm->stable-baselines3[extra]) (0.4.5)\n",
      "Requirement already satisfied: rsa<5,>=3.1.4 in c:\\users\\dilan\\anaconda3\\envs\\deep-learning\\lib\\site-packages (from google-auth<3,>=1.6.3->tensorboard>=2.9.1->stable-baselines3[extra]) (4.9)\n",
      "Requirement already satisfied: cachetools<6.0,>=2.0.0 in c:\\users\\dilan\\anaconda3\\envs\\deep-learning\\lib\\site-packages (from google-auth<3,>=1.6.3->tensorboard>=2.9.1->stable-baselines3[extra]) (5.2.0)\n",
      "Requirement already satisfied: pyasn1-modules>=0.2.1 in c:\\users\\dilan\\anaconda3\\envs\\deep-learning\\lib\\site-packages (from google-auth<3,>=1.6.3->tensorboard>=2.9.1->stable-baselines3[extra]) (0.2.8)\n",
      "Requirement already satisfied: six>=1.9.0 in c:\\users\\dilan\\anaconda3\\envs\\deep-learning\\lib\\site-packages (from google-auth<3,>=1.6.3->tensorboard>=2.9.1->stable-baselines3[extra]) (1.16.0)\n",
      "Requirement already satisfied: requests-oauthlib>=0.7.0 in c:\\users\\dilan\\anaconda3\\envs\\deep-learning\\lib\\site-packages (from google-auth-oauthlib<0.5,>=0.4.1->tensorboard>=2.9.1->stable-baselines3[extra]) (1.3.1)\n",
      "Requirement already satisfied: certifi>=2017.4.17 in c:\\users\\dilan\\anaconda3\\envs\\deep-learning\\lib\\site-packages (from requests->autorom[accept-rom-license]~=0.4.2->stable-baselines3[extra]) (2022.9.24)\n",
      "Requirement already satisfied: idna<4,>=2.5 in c:\\users\\dilan\\anaconda3\\envs\\deep-learning\\lib\\site-packages (from requests->autorom[accept-rom-license]~=0.4.2->stable-baselines3[extra]) (3.4)\n",
      "Requirement already satisfied: charset-normalizer<3,>=2 in c:\\users\\dilan\\anaconda3\\envs\\deep-learning\\lib\\site-packages (from requests->autorom[accept-rom-license]~=0.4.2->stable-baselines3[extra]) (2.0.4)\n",
      "Requirement already satisfied: urllib3<1.27,>=1.21.1 in c:\\users\\dilan\\anaconda3\\envs\\deep-learning\\lib\\site-packages (from requests->autorom[accept-rom-license]~=0.4.2->stable-baselines3[extra]) (1.26.12)\n",
      "Requirement already satisfied: MarkupSafe>=2.1.1 in c:\\users\\dilan\\anaconda3\\envs\\deep-learning\\lib\\site-packages (from werkzeug>=1.0.1->tensorboard>=2.9.1->stable-baselines3[extra]) (2.1.1)\n",
      "Requirement already satisfied: libtorrent in c:\\users\\dilan\\anaconda3\\envs\\deep-learning\\lib\\site-packages (from AutoROM.accept-rom-license->autorom[accept-rom-license]~=0.4.2->stable-baselines3[extra]) (2.0.7)\n",
      "Requirement already satisfied: pyasn1<0.5.0,>=0.4.6 in c:\\users\\dilan\\anaconda3\\envs\\deep-learning\\lib\\site-packages (from pyasn1-modules>=0.2.1->google-auth<3,>=1.6.3->tensorboard>=2.9.1->stable-baselines3[extra]) (0.4.8)\n",
      "Requirement already satisfied: oauthlib>=3.0.0 in c:\\users\\dilan\\anaconda3\\envs\\deep-learning\\lib\\site-packages (from requests-oauthlib>=0.7.0->google-auth-oauthlib<0.5,>=0.4.1->tensorboard>=2.9.1->stable-baselines3[extra]) (3.2.2)\n"
     ]
    }
   ],
   "source": [
    "!pip install stable-baselines3[extra]"
   ]
  },
  {
   "cell_type": "code",
   "execution_count": 2,
   "id": "8df83be0",
   "metadata": {},
   "outputs": [
    {
     "name": "stderr",
     "output_type": "stream",
     "text": [
      "C:\\Users\\dilan\\anaconda3\\envs\\deep-learning\\lib\\site-packages\\tqdm\\auto.py:22: TqdmWarning: IProgress not found. Please update jupyter and ipywidgets. See https://ipywidgets.readthedocs.io/en/stable/user_install.html\n",
      "  from .autonotebook import tqdm as notebook_tqdm\n"
     ]
    }
   ],
   "source": [
    "import os\n",
    "import gym\n",
    "from stable_baselines3 import PPO\n",
    "from stable_baselines3.common.vec_env import DummyVecEnv\n",
    "from stable_baselines3.common.evaluation import evaluate_policy"
   ]
  },
  {
   "cell_type": "markdown",
   "id": "17c8eb24",
   "metadata": {},
   "source": [
    "# 2 - Load Environment"
   ]
  },
  {
   "cell_type": "code",
   "execution_count": 3,
   "id": "f2ca8bac",
   "metadata": {},
   "outputs": [],
   "source": [
    "environment_name = 'CartPole-v0'\n",
    "env = gym.make(environment_name)"
   ]
  },
  {
   "cell_type": "code",
   "execution_count": 4,
   "id": "92318ed0",
   "metadata": {},
   "outputs": [
    {
     "data": {
      "text/plain": [
       "'CartPole-v0'"
      ]
     },
     "execution_count": 4,
     "metadata": {},
     "output_type": "execute_result"
    }
   ],
   "source": [
    "environment_name"
   ]
  },
  {
   "cell_type": "code",
   "execution_count": null,
   "id": "f6b7defd",
   "metadata": {},
   "outputs": [],
   "source": []
  }
 ],
 "metadata": {
  "kernelspec": {
   "display_name": "Python 3 (ipykernel)",
   "language": "python",
   "name": "python3"
  },
  "language_info": {
   "codemirror_mode": {
    "name": "ipython",
    "version": 3
   },
   "file_extension": ".py",
   "mimetype": "text/x-python",
   "name": "python",
   "nbconvert_exporter": "python",
   "pygments_lexer": "ipython3",
   "version": "3.9.15"
  }
 },
 "nbformat": 4,
 "nbformat_minor": 5
}
