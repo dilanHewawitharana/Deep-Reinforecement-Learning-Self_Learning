{
 "cells": [
  {
   "cell_type": "markdown",
   "id": "9b1ee3b0",
   "metadata": {},
   "source": [
    "# 1 - Import dependencies"
   ]
  },
  {
   "cell_type": "code",
   "execution_count": 1,
   "id": "d841d9d7",
   "metadata": {},
   "outputs": [
    {
     "name": "stdout",
     "output_type": "stream",
     "text": [
      "Requirement already satisfied: stable-baselines3 in c:\\users\\dilan\\anaconda3\\envs\\deep-learning\\lib\\site-packages (1.6.2)\n",
      "Requirement already satisfied: matplotlib in c:\\users\\dilan\\anaconda3\\envs\\deep-learning\\lib\\site-packages (from stable-baselines3) (3.6.2)\n",
      "Requirement already satisfied: torch>=1.11 in c:\\users\\dilan\\anaconda3\\envs\\deep-learning\\lib\\site-packages (from stable-baselines3) (1.13.1)\n",
      "Requirement already satisfied: cloudpickle in c:\\users\\dilan\\anaconda3\\envs\\deep-learning\\lib\\site-packages (from stable-baselines3) (2.2.0)\n",
      "Requirement already satisfied: pandas in c:\\users\\dilan\\anaconda3\\envs\\deep-learning\\lib\\site-packages (from stable-baselines3) (1.5.2)\n",
      "Requirement already satisfied: importlib-metadata~=4.13 in c:\\users\\dilan\\anaconda3\\envs\\deep-learning\\lib\\site-packages (from stable-baselines3) (4.13.0)\n",
      "Requirement already satisfied: numpy in c:\\users\\dilan\\anaconda3\\envs\\deep-learning\\lib\\site-packages (from stable-baselines3) (1.23.5)\n",
      "Requirement already satisfied: gym==0.21 in c:\\users\\dilan\\anaconda3\\envs\\deep-learning\\lib\\site-packages (from stable-baselines3) (0.21.0)\n",
      "Requirement already satisfied: zipp>=0.5 in c:\\users\\dilan\\anaconda3\\envs\\deep-learning\\lib\\site-packages (from importlib-metadata~=4.13->stable-baselines3) (3.8.0)\n",
      "Requirement already satisfied: typing-extensions in c:\\users\\dilan\\anaconda3\\envs\\deep-learning\\lib\\site-packages (from torch>=1.11->stable-baselines3) (4.4.0)\n",
      "Requirement already satisfied: fonttools>=4.22.0 in c:\\users\\dilan\\anaconda3\\envs\\deep-learning\\lib\\site-packages (from matplotlib->stable-baselines3) (4.38.0)\n",
      "Requirement already satisfied: pyparsing>=2.2.1 in c:\\users\\dilan\\anaconda3\\envs\\deep-learning\\lib\\site-packages (from matplotlib->stable-baselines3) (3.0.9)\n",
      "Requirement already satisfied: kiwisolver>=1.0.1 in c:\\users\\dilan\\anaconda3\\envs\\deep-learning\\lib\\site-packages (from matplotlib->stable-baselines3) (1.4.4)\n",
      "Requirement already satisfied: contourpy>=1.0.1 in c:\\users\\dilan\\anaconda3\\envs\\deep-learning\\lib\\site-packages (from matplotlib->stable-baselines3) (1.0.6)\n",
      "Requirement already satisfied: python-dateutil>=2.7 in c:\\users\\dilan\\anaconda3\\envs\\deep-learning\\lib\\site-packages (from matplotlib->stable-baselines3) (2.8.2)\n",
      "Requirement already satisfied: cycler>=0.10 in c:\\users\\dilan\\anaconda3\\envs\\deep-learning\\lib\\site-packages (from matplotlib->stable-baselines3) (0.11.0)\n",
      "Requirement already satisfied: pillow>=6.2.0 in c:\\users\\dilan\\anaconda3\\envs\\deep-learning\\lib\\site-packages (from matplotlib->stable-baselines3) (9.3.0)\n",
      "Requirement already satisfied: packaging>=20.0 in c:\\users\\dilan\\anaconda3\\envs\\deep-learning\\lib\\site-packages (from matplotlib->stable-baselines3) (21.3)\n",
      "Requirement already satisfied: pytz>=2020.1 in c:\\users\\dilan\\anaconda3\\envs\\deep-learning\\lib\\site-packages (from pandas->stable-baselines3) (2022.1)\n",
      "Requirement already satisfied: six>=1.5 in c:\\users\\dilan\\anaconda3\\envs\\deep-learning\\lib\\site-packages (from python-dateutil>=2.7->matplotlib->stable-baselines3) (1.16.0)\n"
     ]
    }
   ],
   "source": [
    "!pip install stable-baselines3"
   ]
  },
  {
   "cell_type": "code",
   "execution_count": 2,
   "id": "8df83be0",
   "metadata": {},
   "outputs": [],
   "source": [
    "import os\n",
    "import gym\n",
    "from stable_baselines3 import PPO\n",
    "from stable_baselines3.common.vec_env import DummyVecEnv\n",
    "from stable_baselines3.common.evaluation import evaluate_policy"
   ]
  },
  {
   "cell_type": "markdown",
   "id": "eaea9e22",
   "metadata": {},
   "source": [
    "# 2 - Load Environment"
   ]
  },
  {
   "cell_type": "code",
   "execution_count": 3,
   "id": "facc0273",
   "metadata": {},
   "outputs": [],
   "source": [
    "environment_name = 'CartPole-v1'\n",
    "env = gym.make(environment_name)"
   ]
  },
  {
   "cell_type": "code",
   "execution_count": 4,
   "id": "410fd670",
   "metadata": {},
   "outputs": [
    {
     "data": {
      "text/plain": [
       "'CartPole-v1'"
      ]
     },
     "execution_count": 4,
     "metadata": {},
     "output_type": "execute_result"
    }
   ],
   "source": [
    "environment_name"
   ]
  },
  {
   "cell_type": "code",
   "execution_count": 5,
   "id": "fa48cb28",
   "metadata": {},
   "outputs": [
    {
     "name": "stdout",
     "output_type": "stream",
     "text": [
      "Episodes:1 Score:19.0\n",
      "Episodes:2 Score:17.0\n",
      "Episodes:3 Score:12.0\n",
      "Episodes:4 Score:9.0\n",
      "Episodes:5 Score:24.0\n"
     ]
    }
   ],
   "source": [
    "episodes = 5\n",
    "for episode in range(1, episodes  + 1):\n",
    "    state = env.reset()\n",
    "    done = False\n",
    "    score = 0\n",
    "    \n",
    "    while not done:\n",
    "        env.render()\n",
    "        action = env.action_space.sample()\n",
    "        n_state, reward, done, info = env.step(action)\n",
    "        score += reward\n",
    "    print('Episodes:{} Score:{}'.format(episode, score))\n",
    "env.close()"
   ]
  },
  {
   "cell_type": "code",
   "execution_count": null,
   "id": "2909c7a1",
   "metadata": {},
   "outputs": [],
   "source": []
  }
 ],
 "metadata": {
  "kernelspec": {
   "display_name": "Python 3 (ipykernel)",
   "language": "python",
   "name": "python3"
  },
  "language_info": {
   "codemirror_mode": {
    "name": "ipython",
    "version": 3
   },
   "file_extension": ".py",
   "mimetype": "text/x-python",
   "name": "python",
   "nbconvert_exporter": "python",
   "pygments_lexer": "ipython3",
   "version": "3.9.15"
  }
 },
 "nbformat": 4,
 "nbformat_minor": 5
}
