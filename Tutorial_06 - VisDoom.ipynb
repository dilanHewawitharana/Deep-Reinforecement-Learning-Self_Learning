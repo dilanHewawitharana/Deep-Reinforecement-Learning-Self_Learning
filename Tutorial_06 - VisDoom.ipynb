{
 "cells": [
  {
   "cell_type": "markdown",
   "id": "bf5f7b55",
   "metadata": {},
   "source": [
    "# 1. Getting VizDoom Up and Running"
   ]
  },
  {
   "cell_type": "code",
   "execution_count": 1,
   "id": "25991c8d",
   "metadata": {},
   "outputs": [
    {
     "name": "stdout",
     "output_type": "stream",
     "text": [
      "Requirement already satisfied: vizdoom in c:\\users\\dilan\\anaconda3\\envs\\deep-learning\\lib\\site-packages (1.1.14)\n",
      "Requirement already satisfied: numpy in c:\\users\\dilan\\anaconda3\\envs\\deep-learning\\lib\\site-packages (from vizdoom) (1.24.1)\n"
     ]
    }
   ],
   "source": [
    "!pip install vizdoom"
   ]
  },
  {
   "cell_type": "code",
   "execution_count": 2,
   "id": "647b2e75",
   "metadata": {},
   "outputs": [
    {
     "name": "stderr",
     "output_type": "stream",
     "text": [
      "The system cannot find the path specified.\n",
      "Cloning into 'ViZDoom'...\n",
      "Updating files:  48% (968/2006)\n",
      "Updating files:  49% (983/2006)\n",
      "Updating files:  50% (1003/2006)\n",
      "Updating files:  51% (1024/2006)\n",
      "Updating files:  52% (1044/2006)\n",
      "Updating files:  53% (1064/2006)\n",
      "Updating files:  54% (1084/2006)\n",
      "Updating files:  55% (1104/2006)\n",
      "Updating files:  56% (1124/2006)\n",
      "Updating files:  57% (1144/2006)\n",
      "Updating files:  58% (1164/2006)\n",
      "Updating files:  59% (1184/2006)\n",
      "Updating files:  60% (1204/2006)\n",
      "Updating files:  61% (1224/2006)\n",
      "Updating files:  62% (1244/2006)\n",
      "Updating files:  63% (1264/2006)\n",
      "Updating files:  64% (1284/2006)\n",
      "Updating files:  65% (1304/2006)\n",
      "Updating files:  66% (1324/2006)\n",
      "Updating files:  67% (1345/2006)\n",
      "Updating files:  68% (1365/2006)\n",
      "Updating files:  69% (1385/2006)\n",
      "Updating files:  70% (1405/2006)\n",
      "Updating files:  71% (1425/2006)\n",
      "Updating files:  72% (1445/2006)\n",
      "Updating files:  73% (1465/2006)\n",
      "Updating files:  74% (1485/2006)\n",
      "Updating files:  75% (1505/2006)\n",
      "Updating files:  76% (1525/2006)\n",
      "Updating files:  77% (1545/2006)\n",
      "Updating files:  77% (1549/2006)\n",
      "Updating files:  78% (1565/2006)\n",
      "Updating files:  79% (1585/2006)\n",
      "Updating files:  80% (1605/2006)\n",
      "Updating files:  81% (1625/2006)\n",
      "Updating files:  82% (1645/2006)\n",
      "Updating files:  83% (1665/2006)\n",
      "Updating files:  84% (1686/2006)\n",
      "Updating files:  85% (1706/2006)\n",
      "Updating files:  86% (1726/2006)\n",
      "Updating files:  87% (1746/2006)\n",
      "Updating files:  88% (1766/2006)\n",
      "Updating files:  89% (1786/2006)\n",
      "Updating files:  90% (1806/2006)\n",
      "Updating files:  91% (1826/2006)\n",
      "Updating files:  92% (1846/2006)\n",
      "Updating files:  93% (1866/2006)\n",
      "Updating files:  94% (1886/2006)\n",
      "Updating files:  95% (1906/2006)\n",
      "Updating files:  96% (1926/2006)\n",
      "Updating files:  97% (1946/2006)\n",
      "Updating files:  98% (1966/2006)\n",
      "Updating files:  99% (1986/2006)\n",
      "Updating files: 100% (2006/2006)\n",
      "Updating files: 100% (2006/2006), done.\n"
     ]
    }
   ],
   "source": [
    "!cd github & git clone https://github.com/mwydmuch/ViZDoom"
   ]
  },
  {
   "cell_type": "code",
   "execution_count": 3,
   "id": "70cade6f",
   "metadata": {},
   "outputs": [],
   "source": [
    "# Import vizdoom for game env\n",
    "from vizdoom import *\n",
    "# Import random for action sampling\n",
    "import random\n",
    "# Import time for sleeping\n",
    "import time"
   ]
  },
  {
   "cell_type": "code",
   "execution_count": 4,
   "id": "7f3a081c",
   "metadata": {},
   "outputs": [
    {
     "ename": "FileDoesNotExistException",
     "evalue": "File \"github/VizDoom/scenarios/basic.cfg | ./scenarios/github/vizdoom/scenarios/basic.cfg | C:/Users/dilan/anaconda3/envs/deep-learning/lib/site-packages/vizdoom/scenarios/github/vizdoom/scenarios/basic.cfg\" does not exist.",
     "output_type": "error",
     "traceback": [
      "\u001b[1;31m---------------------------------------------------------------------------\u001b[0m",
      "\u001b[1;31mFileDoesNotExistException\u001b[0m                 Traceback (most recent call last)",
      "Cell \u001b[1;32mIn [4], line 3\u001b[0m\n\u001b[0;32m      1\u001b[0m \u001b[38;5;66;03m# Setup game\u001b[39;00m\n\u001b[0;32m      2\u001b[0m game \u001b[38;5;241m=\u001b[39m DoomGame()\n\u001b[1;32m----> 3\u001b[0m \u001b[43mgame\u001b[49m\u001b[38;5;241;43m.\u001b[39;49m\u001b[43mload_config\u001b[49m\u001b[43m(\u001b[49m\u001b[38;5;124;43m'\u001b[39;49m\u001b[38;5;124;43mgithub/VizDoom/scenarios/basic.cfg\u001b[39;49m\u001b[38;5;124;43m'\u001b[39;49m\u001b[43m)\u001b[49m\n\u001b[0;32m      4\u001b[0m game\u001b[38;5;241m.\u001b[39minit()\n",
      "\u001b[1;31mFileDoesNotExistException\u001b[0m: File \"github/VizDoom/scenarios/basic.cfg | ./scenarios/github/vizdoom/scenarios/basic.cfg | C:/Users/dilan/anaconda3/envs/deep-learning/lib/site-packages/vizdoom/scenarios/github/vizdoom/scenarios/basic.cfg\" does not exist."
     ]
    }
   ],
   "source": [
    "# Setup game\n",
    "game = DoomGame()\n",
    "game.load_config('github/VizDoom/scenarios/basic.cfg')\n",
    "game.init()"
   ]
  },
  {
   "cell_type": "code",
   "execution_count": null,
   "id": "169cc50d",
   "metadata": {},
   "outputs": [],
   "source": []
  }
 ],
 "metadata": {
  "kernelspec": {
   "display_name": "Python 3 (ipykernel)",
   "language": "python",
   "name": "python3"
  },
  "language_info": {
   "codemirror_mode": {
    "name": "ipython",
    "version": 3
   },
   "file_extension": ".py",
   "mimetype": "text/x-python",
   "name": "python",
   "nbconvert_exporter": "python",
   "pygments_lexer": "ipython3",
   "version": "3.9.15"
  }
 },
 "nbformat": 4,
 "nbformat_minor": 5
}
